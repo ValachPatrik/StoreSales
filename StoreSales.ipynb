{
 "cells": [
  {
   "cell_type": "code",
   "execution_count": 44,
   "metadata": {},
   "outputs": [
    {
     "name": "stdout",
     "output_type": "stream",
     "text": [
      "Index(['id', 'date', 'store_nbr', 'family', 'sales', 'onpromotion',\n",
      "       'holiday_type', 'locale', 'locale_name', 'description', 'transferred',\n",
      "       'city', 'state', 'city_type', 'cluster', 'transactions', 'dcoilwtico'],\n",
      "      dtype='object')\n"
     ]
    }
   ],
   "source": [
    "import pandas as pd\n",
    "import numpy as np\n",
    "import os\n",
    "import seaborn as sns\n",
    "from matplotlib import pyplot as plt\n",
    "\n",
    "%matplotlib inline \n",
    "\n",
    "train = pd.read_csv(\"train.csv\")\n",
    "test = pd.read_csv(\"test.csv\")\n",
    "holiday = pd.read_csv(\"holidays_events.csv\")\n",
    "stores = pd.read_csv(\"stores.csv\")\n",
    "oil = pd.read_csv(\"oil.csv\")\n",
    "transactions = pd.read_csv(\"transactions.csv\")\n",
    "\n",
    "#print(train.head())\n",
    "\n",
    "data = pd.concat([train,test])\n",
    "data = data.merge(holiday, \"left\", [\"date\"]).rename(columns={\"type\" : \"holiday_type\"})\n",
    "data = data.merge(stores, \"left\", [\"store_nbr\"]).rename(columns={'type':'city_type'})\n",
    "data = data.merge(transactions, \"left\", [\"store_nbr\", \"date\"])\n",
    "data = data.merge(oil, \"left\", [\"date\"])\n",
    "\n",
    "print(data.columns)\n",
    "\n",
    "data.date = pd.to_datetime(data.date)\n",
    "data['year'] = data['date'].dt.year\n",
    "data['month'] = data['date'].dt.month\n",
    "data['week'] = data['date'].dt.isocalendar().week\n",
    "data['quarter'] = data['date'].dt.quarter\n",
    "data['day_of_week'] = data['date'].dt.day_name()\n",
    "\n",
    "data['dcoilwtico'] = data['dcoilwtico'].fillna(method='bfill')\n",
    "data.transactions = data.transactions.replace(np.nan,0)\n",
    "data['holiday_type'] = data['holiday_type'].replace(np.nan,'Working Day')\n",
    "data['transferred'] = data['transferred'].replace(np.nan,False)\n",
    "\n",
    "\n"
   ]
  },
  {
   "cell_type": "code",
   "execution_count": null,
   "metadata": {},
   "outputs": [],
   "source": [
    "sns.lineplot(x='date', y='sales', data=data)\n",
    "plt.xlabel('Date')\n",
    "plt.ylabel('Sales')\n",
    "plt.title('Sales Over Time')\n",
    "plt.show()"
   ]
  },
  {
   "cell_type": "code",
   "execution_count": null,
   "metadata": {},
   "outputs": [],
   "source": [
    "plt.scatter(x=data['date'], y=data['dcoilwtico'])"
   ]
  },
  {
   "cell_type": "code",
   "execution_count": null,
   "metadata": {},
   "outputs": [],
   "source": [
    "data['holiday_type'].unique()"
   ]
  },
  {
   "cell_type": "code",
   "execution_count": null,
   "metadata": {},
   "outputs": [],
   "source": [
    "data['date'] = pd.to_datetime(data['date'])\n",
    "\n",
    "# Aggregate the data on a monthly basis and determine the tendency of oil price\n",
    "monthly_data = data.groupby(data['date'].dt.to_period('M')).agg({'sales': 'sum', 'dcoilwtico': lambda x: 'Increasing' if x.diff().mean() > 0 else 'Decreasing'})\n",
    "\n",
    "# Reset the index and rename the columns\n",
    "monthly_data = monthly_data.reset_index()\n",
    "monthly_data['Month'] = monthly_data['date'].dt.strftime('%Y-%m')\n",
    "monthly_data = monthly_data.drop('date', axis=1)\n",
    "\n",
    "# Plot sales over time with color coded by monthly oil price tendency\n",
    "sns.lineplot(x='Month', y='sales', hue='dcoilwtico', data=monthly_data)\n",
    "plt.xlabel('Month')\n",
    "plt.ylabel('Sales')\n",
    "plt.title('Sales Over Time (Color Coded by Monthly Oil Price Tendency)')\n",
    "plt.legend(title='Oil Price Tendency')\n",
    "plt.show()"
   ]
  },
  {
   "cell_type": "code",
   "execution_count": 52,
   "metadata": {},
   "outputs": [],
   "source": [
    "dummies = pd.get_dummies(data[['store_nbr', 'family', 'sales', 'onpromotion',\n",
    "       'holiday_type', 'locale', 'locale_name', 'description', 'transferred',\n",
    "       'city', 'state', 'city_type', 'cluster', 'transactions', 'dcoilwtico']])\n",
    "\n",
    "from sklearn.preprocessing import StandardScaler\n",
    "scaler = StandardScaler()\n",
    "dummies[['store_nbr', 'sales', 'onpromotion', 'transferred',\n",
    "         'cluster', 'transactions', 'dcoilwtico']] = scaler.fit_transform(dummies[[\n",
    "                'store_nbr', 'sales', 'onpromotion', 'transferred', 'cluster',\n",
    "                'transactions', 'dcoilwtico']])"
   ]
  },
  {
   "cell_type": "code",
   "execution_count": 64,
   "metadata": {},
   "outputs": [
    {
     "name": "stderr",
     "output_type": "stream",
     "text": [
      "c:\\Users\\valac\\AppData\\Local\\Programs\\Python\\Python311\\Lib\\site-packages\\sklearn\\preprocessing\\_encoders.py:868: FutureWarning: `sparse` was renamed to `sparse_output` in version 1.2 and will be removed in 1.4. `sparse_output` is ignored unless you leave `sparse` to its default value.\n",
      "  warnings.warn(\n"
     ]
    }
   ],
   "source": [
    "from sklearn.linear_model import LinearRegression\n",
    "from sklearn.preprocessing import OneHotEncoder\n",
    "\n",
    "filtered_train_data = dummies[data['date'] <= '2017-08-15']\n",
    "filtered_test_data = dummies[data['date'] > '2017-08-15']\n",
    "\n",
    "x_train = filtered_train_data[['store_nbr', 'dcoilwtico', 'transactions']]\n",
    "x_test = filtered_test_data[['store_nbr', 'dcoilwtico', 'transactions']]\n",
    "y_train = filtered_train_data['sales']\n",
    "\n",
    "# Perform one-hot encoding on the 'holiday_type' column\n",
    "encoder = OneHotEncoder(sparse=False, drop='first')\n",
    "holiday_type_encoded = encoder.fit_transform(filtered_train_data[['holiday_type']])\n",
    "x_train = np.hstack((x_train.values, holiday_type_encoded))\n",
    "\n",
    "holiday_type_encoded = encoder.transform(filtered_test_data[['holiday_type']])\n",
    "x_test = np.hstack((x_test.values, holiday_type_encoded))\n",
    "\n",
    "scaled_X_train = scaler.fit_transform(x_train)\n",
    "scaled_X_test = scaler.fit_transform(x_test)\n",
    "\n",
    "# Fit the model and predict sales\n",
    "model = LinearRegression()\n",
    "model.fit(scaled_X_train, y_train)\n",
    "predicted_sales = model.predict(scaled_X_test)\n",
    "\n",
    "# Create the submission DataFrame\n",
    "submission = pd.DataFrame({'id': filtered_test_data.index, 'sales': predicted_sales})\n",
    "submission.to_csv('submission.csv', index=False)"
   ]
  }
 ],
 "metadata": {
  "language_info": {
   "name": "python"
  },
  "orig_nbformat": 4
 },
 "nbformat": 4,
 "nbformat_minor": 2
}
